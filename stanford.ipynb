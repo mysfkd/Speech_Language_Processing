{
 "cells": [
  {
   "cell_type": "markdown",
   "metadata": {},
   "source": [
    "## 2. Regular Expressions\n",
    "### 2.1.1 Basic Regular Expression Patterns"
   ]
  },
  {
   "cell_type": "code",
   "execution_count": 2,
   "metadata": {},
   "outputs": [],
   "source": [
    "import re\n",
    "def print_regex_result(match, text):\n",
    "    if match:\n",
    "        highlighted_text = text[:match.start()] + \"\\033[1;31m\" + match.group() + \"\\033[0m\" + text[match.end():]\n",
    "        print(highlighted_text)\n",
    "    else:\n",
    "        print(text)"
   ]
  },
  {
   "cell_type": "code",
   "execution_count": 146,
   "metadata": {},
   "outputs": [
    {
     "name": "stdout",
     "output_type": "stream",
     "text": [
      "interesting links to \u001b[1;31mwoodchucks\u001b[0m and lemurs\n"
     ]
    }
   ],
   "source": [
    "# Figure 2.1\n",
    "text = \"interesting links to woodchucks and lemurs\"\n",
    "pattern = \"woodchucks\"\n",
    "\n",
    "# Use re to search for the pattern in the text\n",
    "match = re.search(pattern,text)\n",
    "print_regex_result(match,text)"
   ]
  },
  {
   "cell_type": "code",
   "execution_count": 147,
   "metadata": {},
   "outputs": [
    {
     "name": "stdout",
     "output_type": "stream",
     "text": [
      "M\u001b[1;31ma\u001b[0mry Ann stopped by Mona’s\n",
      "“You’ve left the burglar behind again\u001b[1;31m!\u001b[0m” said Nori\n"
     ]
    }
   ],
   "source": [
    "texts = [\"Mary Ann stopped by Mona’s\", \"“You’ve left the burglar behind again!” said Nori\"]\n",
    "patterns = [\"a\", \"!\"]\n",
    "\n",
    "for text, pattern in zip(texts, patterns):\n",
    "    match = re.search(pattern,text)\n",
    "    print_regex_result(match,text)"
   ]
  },
  {
   "cell_type": "code",
   "execution_count": 148,
   "metadata": {},
   "outputs": [
    {
     "name": "stdout",
     "output_type": "stream",
     "text": [
      "\u001b[1;31mWoodchuck\u001b[0m and woodchuck are both mentioned. woodchuck again.\n"
     ]
    }
   ],
   "source": [
    "# Figure 2.2\n",
    "text = \"Woodchuck and woodchuck are both mentioned. woodchuck again.\"\n",
    "\n",
    "pattern = r\"[wW]oodchuck\"\n",
    "\n",
    "match = re.search(pattern,text)\n",
    "print_regex_result(match,text)"
   ]
  },
  {
   "cell_type": "code",
   "execution_count": 149,
   "metadata": {},
   "outputs": [
    {
     "name": "stdout",
     "output_type": "stream",
     "text": [
      "In uomini, in sold\u001b[1;31ma\u001b[0mti\n",
      "plenty of \u001b[1;31m7\u001b[0m to 5\n"
     ]
    }
   ],
   "source": [
    "texts = [\"In uomini, in soldati\", \"plenty of 7 to 5\"]\n",
    "patterns = [\"[abc]\", \"[1234567890]\"]\n",
    "\n",
    "for text, pattern in zip(texts, patterns):\n",
    "    match = re.search(pattern,text)\n",
    "    print_regex_result(match,text)"
   ]
  },
  {
   "cell_type": "code",
   "execution_count": 150,
   "metadata": {},
   "outputs": [
    {
     "name": "stdout",
     "output_type": "stream",
     "text": [
      "we should call it ‘\u001b[1;31mD\u001b[0mrenched Blossoms’ \n",
      "\u001b[1;31mm\u001b[0my beans were impatient to be hoed!\n",
      "Chapter \u001b[1;31m1\u001b[0m: Down the Rabbit Hole\n"
     ]
    }
   ],
   "source": [
    "# Figure 2.3\n",
    "texts = [\"we should call it ‘Drenched Blossoms’ \", \"my beans were impatient to be hoed!\",\"Chapter 1: Down the Rabbit Hole\"]\n",
    "patterns = [\"[A-Z]\", \"[a-z]\",\"[0-9]\"]\n",
    "\n",
    "for text, pattern in zip(texts, patterns):\n",
    "    match = re.search(pattern,text)\n",
    "    print_regex_result(match,text)"
   ]
  },
  {
   "cell_type": "code",
   "execution_count": 151,
   "metadata": {},
   "outputs": [
    {
     "name": "stdout",
     "output_type": "stream",
     "text": [
      "O\u001b[1;31my\u001b[0mfn pripetchik\n",
      "\u001b[1;31mI\u001b[0m have no exquisite reason for’t\n",
      "\u001b[1;31mo\u001b[0mur resident Djinn\n"
     ]
    }
   ],
   "source": [
    "# Figure 2.4\n",
    "texts = [\"Oyfn pripetchik\", \"I have no exquisite reason for’t\",\"our resident Djinn\"]\n",
    "patterns = [\"[^A-Z]\", \"[^Ss]\",\"[^.]\"]\n",
    "\n",
    "for text, pattern in zip(texts, patterns):\n",
    "    match = re.search(pattern,text)\n",
    "    print_regex_result(match,text)"
   ]
  },
  {
   "cell_type": "code",
   "execution_count": 152,
   "metadata": {},
   "outputs": [
    {
     "name": "stdout",
     "output_type": "stream",
     "text": [
      "look up \u001b[1;31m^\u001b[0m now\n",
      "look up \u001b[1;31ma^b\u001b[0m now\n"
     ]
    }
   ],
   "source": [
    "# Figure 2.4\n",
    "texts = [\"look up ^ now\",\"look up a^b now\"]\n",
    "patterns = [\"[e^]\",r\"a\\^b\"]#r\"a\\^b\" is the raw string representation of \"a\\^b\"\n",
    "\n",
    "for text, pattern in zip(texts, patterns):\n",
    "    match = re.search(pattern,text)\n",
    "    print_regex_result(match,text)"
   ]
  },
  {
   "cell_type": "code",
   "execution_count": 153,
   "metadata": {},
   "outputs": [
    {
     "name": "stdout",
     "output_type": "stream",
     "text": [
      "\u001b[1;31mwoodchuck\u001b[0m\n",
      "\u001b[1;31mcolor\u001b[0m\n"
     ]
    }
   ],
   "source": [
    "# Figure 2.5\n",
    "texts = [\"woodchuck\",\"color\"]\n",
    "patterns = [\"woodchucks?\",\"colou?r\"]\n",
    "\n",
    "for text, pattern in zip(texts, patterns):\n",
    "    match = re.search(pattern,text)\n",
    "    print_regex_result(match,text)"
   ]
  },
  {
   "cell_type": "code",
   "execution_count": 154,
   "metadata": {},
   "outputs": [
    {
     "name": "stdout",
     "output_type": "stream",
     "text": [
      "\u001b[1;31mba\u001b[0maaa\n",
      "\u001b[1;31mbaaaa\u001b[0m\n"
     ]
    }
   ],
   "source": [
    "text = \"baaaa\"\n",
    "pattern = [\"ba\",\"ba*\"]\n",
    "\n",
    "for p in pattern:\n",
    "    match = re.search(p,text)\n",
    "    print_regex_result(match,text)\n"
   ]
  },
  {
   "cell_type": "code",
   "execution_count": 155,
   "metadata": {},
   "outputs": [
    {
     "name": "stdout",
     "output_type": "stream",
     "text": [
      "baaaa\n",
      "\u001b[1;31m\u001b[0mbaaaa\n"
     ]
    }
   ],
   "source": [
    "texts = \"9999\"\n",
    "pattern = [\"[0-9]\",\"[0-9]*\"]\n",
    "\n",
    "\n",
    "for p in pattern:\n",
    "    match = re.search(p,text)\n",
    "    print_regex_result(match,text)\n"
   ]
  },
  {
   "cell_type": "code",
   "execution_count": 156,
   "metadata": {},
   "outputs": [
    {
     "name": "stdout",
     "output_type": "stream",
     "text": [
      "\u001b[1;31mbegin\u001b[0m\n",
      "\u001b[1;31mbegan\u001b[0m\n",
      "\u001b[1;31mbegun\u001b[0m\n"
     ]
    }
   ],
   "source": [
    "#Figure 2.6\n",
    "texts = [\"begin\",\"began\",\"begun\"]\n",
    "pattern = \"beg.n\"\n",
    "\n",
    "\n",
    "for t in texts:\n",
    "    match = re.search(pattern,t)\n",
    "    print_regex_result(match,text)"
   ]
  },
  {
   "cell_type": "code",
   "execution_count": 157,
   "metadata": {},
   "outputs": [
    {
     "name": "stdout",
     "output_type": "stream",
     "text": [
      "There are \u001b[1;31m99\u001b[0m bottles of beer on the wall\n",
      "There are 299 bottles of beer on the wall\n",
      "There are $\u001b[1;31m99\u001b[0m bottles of beer on the wall\n"
     ]
    }
   ],
   "source": [
    "texts = [\n",
    "    \"There are 99 bottles of beer on the wall\",\n",
    "    \"There are 299 bottles of beer on the wall\",\n",
    "    \"There are $99 bottles of beer on the wall\"\n",
    "]\n",
    "pattern = r\"\\b99\\b\"\n",
    "\n",
    "for t in texts:\n",
    "    match = re.search(pattern, t)\n",
    "    print_regex_result(match, t)\n"
   ]
  },
  {
   "cell_type": "code",
   "execution_count": 158,
   "metadata": {},
   "outputs": [
    {
     "name": "stdout",
     "output_type": "stream",
     "text": [
      "\\b99\\b\n",
      "\u001b[1;31m\u001b[0mThere are 99 bottles of beer on the wall\n",
      "\u001b[1;31m\u001b[0mThere are 299 bottles of beer on the wall\n",
      "\u001b[1;31m\u001b[0mThere are $99 bottles of beer on the wall\n"
     ]
    }
   ],
   "source": [
    "texts = [\"There are 99 bottles of beer on the wall\",\"There are 299 bottles of beer on the wall\",\"There are $99 bottles of beer on the wall\"]\n",
    "pattern = [r\"\\b99\\b\"]\n",
    "print(r'\\b99\\b')\n",
    "for t in texts:\n",
    "        match = re.search(p,t)\n",
    "        print_regex_result(match,t)"
   ]
  },
  {
   "cell_type": "markdown",
   "metadata": {},
   "source": [
    "## 2.1.2 Disjunction, Grouping, and Precedence"
   ]
  },
  {
   "cell_type": "code",
   "execution_count": 159,
   "metadata": {},
   "outputs": [
    {
     "name": "stdout",
     "output_type": "stream",
     "text": [
      "I have a \u001b[1;31mcat\u001b[0m and a dog\n"
     ]
    }
   ],
   "source": [
    "# Disjunction\n",
    "text = \"I have a cat and a dog\"\n",
    "pattern = \"cat|dog\"\n",
    "match = re.search(pattern,text)\n",
    "print_regex_result(match,text)"
   ]
  },
  {
   "cell_type": "code",
   "execution_count": 160,
   "metadata": {},
   "outputs": [
    {
     "name": "stdout",
     "output_type": "stream",
     "text": [
      "I have \u001b[1;31mguppies\u001b[0m\n"
     ]
    }
   ],
   "source": [
    "#precedence\n",
    "text = \"I have guppies\"\n",
    "pattern =\"gupp(y|ies)\"\n",
    "match = re.search(pattern,text)\n",
    "print_regex_result(match,text)"
   ]
  },
  {
   "cell_type": "code",
   "execution_count": 161,
   "metadata": {},
   "outputs": [
    {
     "name": "stdout",
     "output_type": "stream",
     "text": [
      "\u001b[1;31mColumn 1 \u001b[0mColumn 2 Column 3\n",
      "\u001b[1;31mColumn 1 Column 2 Column 3\u001b[0m\n"
     ]
    }
   ],
   "source": [
    "text = \"Column 1 Column 2 Column 3\"\n",
    "pattern =[\"Column [0-9]+ *\",\"(Column [0-9]+ *)*\"]\n",
    "for p in pattern:\n",
    "    match = re.search(p,text)\n",
    "    print_regex_result(match,text)\n"
   ]
  },
  {
   "cell_type": "code",
   "execution_count": 162,
   "metadata": {},
   "outputs": [
    {
     "name": "stdout",
     "output_type": "stream",
     "text": [
      "counters * has higher operator precedence than sequence:\n",
      "pattern: the*\n",
      "\u001b[1;31mthe\u001b[0m\n",
      "\u001b[1;31mthe\u001b[0mthethe\n",
      "\u001b[1;31mtheee\u001b[0m\n",
      "sequence has higher operator precedence than disjunction:\n",
      "pattern: the|any\n",
      "\u001b[1;31mthe\u001b[0m\n",
      "\u001b[1;31many\u001b[0m\n",
      "th\u001b[1;31many\u001b[0m\n",
      "\u001b[1;31mthe\u001b[0mny\n"
     ]
    }
   ],
   "source": [
    "# operator precedence\n",
    "text= [\"the\",\"thethethe\",\"theee\"]\n",
    "pattern=\"the*\"\n",
    "print(\"counters * has higher operator precedence than sequence:\")\n",
    "print(\"pattern:\",pattern)\n",
    "for t in text:\n",
    "    match = re.search(pattern,t)\n",
    "    print_regex_result(match,t)\n",
    "text=[\"the\",\"any\",\"thany\",\"theny\"]\n",
    "pattern=\"the|any\"\n",
    "print(\"sequence has higher operator precedence than disjunction:\")\n",
    "print(\"pattern:\",pattern)\n",
    "for t in text:\n",
    "    match = re.search(pattern,t)\n",
    "    print_regex_result(match,t)\n"
   ]
  },
  {
   "cell_type": "markdown",
   "metadata": {},
   "source": [
    "## 2.1.3 A simple example"
   ]
  },
  {
   "cell_type": "code",
   "execution_count": 163,
   "metadata": {},
   "outputs": [
    {
     "name": "stdout",
     "output_type": "stream",
     "text": [
      "\u001b[1;31mthe\u001b[0m\n",
      "\u001b[1;31mThe\u001b[0m\n",
      "other\n",
      "theft\n",
      "\u001b[1;31mthe,\u001b[0m\n",
      "\u001b[1;31mthe2\u001b[0m\n"
     ]
    }
   ],
   "source": [
    "# How to find the word \"the\" in a text?\n",
    "text = [\"the\",\"The\",\"other\",\"theft\",\"the,\",\"the2\"]\n",
    "pattern=\"(^|[^a-zA-Z])[tT]he([^a-zA-Z]|$)\"\n",
    "for t in text:\n",
    "    match = re.search(pattern,t)\n",
    "    print_regex_result(match,t)"
   ]
  },
  {
   "cell_type": "markdown",
   "metadata": {},
   "source": [
    "## 2.1.4 More Operators"
   ]
  },
  {
   "cell_type": "code",
   "execution_count": 164,
   "metadata": {},
   "outputs": [
    {
     "name": "stdout",
     "output_type": "stream",
     "text": [
      "number\u001b[1;31m5\u001b[0m\n",
      "\u001b[1;31mB\u001b[0mlue\n",
      "\u001b[1;31mR\u001b[0med\n",
      "\u001b[1;31m!\u001b[0m!!\n",
      "in\u001b[1;31m \u001b[0mred\n",
      "\u001b[1;31mi\u001b[0mnch\n"
     ]
    }
   ],
   "source": [
    "texts = [\"number5\",\"Blue\",\"Red\",\"!!!\",\"in red\",\"inch\"]\n",
    "patterns = [r\"\\d\", r\"\\D\",r\"\\w\",r\"\\W\",r\"\\s\",r\"\\S\"]\n",
    "\n",
    "for text, pattern in zip(texts, patterns):\n",
    "    match = re.search(pattern,text)\n",
    "    print_regex_result(match,text)"
   ]
  },
  {
   "cell_type": "code",
   "execution_count": 165,
   "metadata": {},
   "outputs": [
    {
     "name": "stdout",
     "output_type": "stream",
     "text": [
      "operations *\n",
      "\u001b[1;31mth\u001b[0m\n",
      "\u001b[1;31mthe\u001b[0m\n",
      "\u001b[1;31mthee\u001b[0m\n",
      "\u001b[1;31mtheee\u001b[0m\n",
      "operations +\n",
      "th\n",
      "\u001b[1;31mthe\u001b[0m\n",
      "\u001b[1;31mthee\u001b[0m\n",
      "\u001b[1;31mtheee\u001b[0m\n",
      "operations ?\n",
      "\u001b[1;31mth\u001b[0m\n",
      "\u001b[1;31mthe\u001b[0m\n",
      "\u001b[1;31mthe\u001b[0me\n",
      "\u001b[1;31mthe\u001b[0mee\n",
      "operations {1}\n",
      "th\n",
      "\u001b[1;31mthe\u001b[0m\n",
      "\u001b[1;31mthe\u001b[0me\n",
      "\u001b[1;31mthe\u001b[0mee\n",
      "operations {1,2}\n",
      "th\n",
      "\u001b[1;31mthe\u001b[0m\n",
      "\u001b[1;31mthee\u001b[0m\n",
      "\u001b[1;31mthee\u001b[0me\n",
      "operations {1,}\n",
      "th\n",
      "\u001b[1;31mthe\u001b[0m\n",
      "\u001b[1;31mthee\u001b[0m\n",
      "\u001b[1;31mtheee\u001b[0m\n",
      "operations {,2}\n",
      "\u001b[1;31mth\u001b[0m\n",
      "\u001b[1;31mthe\u001b[0m\n",
      "\u001b[1;31mthee\u001b[0m\n",
      "\u001b[1;31mthee\u001b[0me\n"
     ]
    }
   ],
   "source": [
    "def repeat_operations(op):\n",
    "    print(\"operations\",op)\n",
    "    text = [\"th\",\"the\",\"thee\",\"theee\"]\n",
    "    pattern=\"the\"+op\n",
    "    for t in text:\n",
    "        match = re.search(pattern,t)\n",
    "        print_regex_result(match,t)\n",
    "repeat_operations(\"*\")\n",
    "repeat_operations(\"+\")\n",
    "repeat_operations(\"?\")\n",
    "repeat_operations(\"{1}\")\n",
    "repeat_operations(\"{1,2}\")\n",
    "repeat_operations(\"{1,}\")\n",
    "repeat_operations(\"{,2}\")"
   ]
  },
  {
   "cell_type": "code",
   "execution_count": 166,
   "metadata": {},
   "outputs": [
    {
     "name": "stdout",
     "output_type": "stream",
     "text": [
      "\u001b[1;31m?\u001b[0m*.\n",
      "?\u001b[1;31m*\u001b[0m.\n",
      "?*\u001b[1;31m.\u001b[0m\n"
     ]
    }
   ],
   "source": [
    "#How to search for special characters?\n",
    "text=\"?*.\"\n",
    "patterns = [r\"\\?\", r\"\\*\",r\"\\.\"]\n",
    "for pattern in patterns:\n",
    "    match = re.search(pattern,text)\n",
    "    print_regex_result(match,text)"
   ]
  },
  {
   "cell_type": "markdown",
   "metadata": {},
   "source": [
    "## A More Complex Example"
   ]
  },
  {
   "cell_type": "code",
   "execution_count": 167,
   "metadata": {},
   "outputs": [
    {
     "name": "stdout",
     "output_type": "stream",
     "text": [
      "\u001b[1;31m6 GHz\u001b[0m or 500 GB or Mac or $999.99\n",
      "6 GHz or \u001b[1;31m500 GB\u001b[0m or Mac or $999.99\n",
      "6 GHz or 500 GB or Mac or \u001b[1;31m$999.99\u001b[0m\n"
     ]
    }
   ],
   "source": [
    "#find any machine with at least 6 GHz and 500 GB of disk space for less than $1000\n",
    "text=\"6 GHz or 500 GB or Mac or $999.99\"\n",
    "patterns=[r'\\b[0-9]+(\\.[0-9]+)? *([gG][Hh][Zz])\\b',r'\\b[0-9]+(\\.[0-9]+)? *(GB|[Gg]igabytes?)\\b',r'(\\$|[D|d]ollars?|USD)+[0-9]+(\\.[0-9]+)?']\n",
    "for pattern in patterns:\n",
    "    match = re.search(pattern,text)\n",
    "    print_regex_result(match,text)"
   ]
  },
  {
   "cell_type": "markdown",
   "metadata": {},
   "source": [
    "## 2.1.6 Substitution, Capture Groups, and ELIZA"
   ]
  },
  {
   "cell_type": "code",
   "execution_count": 168,
   "metadata": {},
   "outputs": [
    {
     "name": "stdout",
     "output_type": "stream",
     "text": [
      "colour red\n"
     ]
    }
   ],
   "source": [
    "# substitution\n",
    "text=\"color red\"\n",
    "print(re.sub(r\"color\",\"colour\",text))\n"
   ]
  },
  {
   "cell_type": "code",
   "execution_count": 169,
   "metadata": {},
   "outputs": [
    {
     "name": "stdout",
     "output_type": "stream",
     "text": [
      "<35> boxes\n"
     ]
    }
   ],
   "source": [
    "#use the number operator \\1 in the second pattern to refer back\n",
    "text=\"35 boxes\"\n",
    "print(re.sub(r\"([0-9]+)\",r\"<\\1>\",text))"
   ]
  },
  {
   "cell_type": "code",
   "execution_count": 7,
   "metadata": {},
   "outputs": [
    {
     "name": "stdout",
     "output_type": "stream",
     "text": [
      "\u001b[1;31mthe faster they were, the faster they will be\u001b[0m\n",
      "\u001b[1;31mthe faster they ran, the faster we ran\u001b[0m but not the faster they ran, the faster we ate\n"
     ]
    }
   ],
   "source": [
    "#specify that a certain string or expression must occur twice in the text\n",
    "text='the faster they were, the faster they will be'\n",
    "pattern=r\"the (.*)er they were, the \\1er they will be\"\n",
    "match = re.search(pattern,text)\n",
    "print_regex_result(match,text)\n",
    "\n",
    "text=\"the faster they ran, the faster we ran but not the faster they ran, the faster we ate\"\n",
    "pattern=r\"the (.*)er they (.*), the \\1er we \\2\"\n",
    "match = re.search(pattern,text)\n",
    "print_regex_result(match,text)"
   ]
  },
  {
   "cell_type": "code",
   "execution_count": 12,
   "metadata": {},
   "outputs": [
    {
     "name": "stdout",
     "output_type": "stream",
     "text": [
      "\u001b[1;31msome cats like some cats\u001b[0m but not some cats like some some.\n"
     ]
    }
   ],
   "source": [
    "# non-capturing group\n",
    "text=\"some cats like some cats but not some cats like some some.\"\n",
    "pattern=r\"(?:some|a few) (people|cats) like some \\1\"\n",
    "match = re.search(pattern,text)\n",
    "print_regex_result(match,text)"
   ]
  },
  {
   "cell_type": "markdown",
   "metadata": {},
   "source": [
    "## 2.1.7 Lookahead Assertions"
   ]
  },
  {
   "cell_type": "code",
   "execution_count": 16,
   "metadata": {},
   "outputs": [
    {
     "name": "stdout",
     "output_type": "stream",
     "text": [
      "\u001b[1;31mA\u001b[0m Volcano is a volcano\n"
     ]
    }
   ],
   "source": [
    "# at the beginning of a line, any single word that doesn’t start with “Volcano”\n",
    "text=\"A Volcano is a volcano\"\n",
    "pattern=\"^(?!Volcano)[A-Za-z]+\"\n",
    "match = re.search(pattern,text)\n",
    "print_regex_result(match,text)"
   ]
  },
  {
   "cell_type": "markdown",
   "metadata": {},
   "source": [
    "# 2.4 Simple Unix Tools for Word Tokenization"
   ]
  },
  {
   "cell_type": "code",
   "execution_count": 26,
   "metadata": {},
   "outputs": [
    {
     "name": "stdout",
     "output_type": "stream",
     "text": [
      "THE\n",
      "SONNETS\n",
      "by\n",
      "William\n",
      "Shakespeare\n",
      "From\n",
      "fairest\n",
      "creatures\n",
      "we\n",
      "desire\n",
      "increase\n",
      "That\n",
      "thereby\n",
      "beauty\n",
      "s\n",
      "rose\n",
      "might\n",
      "never\n",
      "die\n",
      "\n"
     ]
    }
   ],
   "source": [
    "import subprocess\n",
    "with open('sh.txt', 'r') as file:\n",
    "    file_content = file.read()\n",
    "result=subprocess.run(['tr', '-sc', 'A-Za-z', '\\n'], input=file_content, text=True, capture_output=True)\n",
    "\n",
    "print(result.stdout[:120])"
   ]
  },
  {
   "cell_type": "code",
   "execution_count": 21,
   "metadata": {},
   "outputs": [
    {
     "name": "stdout",
     "output_type": "stream",
     "text": [
      "1945 A\n",
      "  72 AARON\n",
      "  19 ABBESS\n",
      "   5 ABBOT\n",
      "   8 ABERGAVENNY\n",
      "  18 ABHORSON\n",
      "   1 ABOUT\n",
      "  88 ACHILLE\n"
     ]
    }
   ],
   "source": [
    "#Upper case words count\n",
    "result = subprocess.run(\"tr -sc 'A-Za-z' '\\n' < sh.txt | sort | uniq -c\", shell=True, capture_output=True, text=True)\n",
    "print(result.stdout[:95])"
   ]
  },
  {
   "cell_type": "code",
   "execution_count": 20,
   "metadata": {},
   "outputs": [
    {
     "name": "stdout",
     "output_type": "stream",
     "text": [
      "14725 a\n",
      "  97 aaron\n",
      "   1 abaissiez\n",
      "  10 abandon\n",
      "   2 abandoned\n",
      "   2 abase\n",
      "   1 abash\n",
      "  14 abate\n",
      "\n"
     ]
    }
   ],
   "source": [
    "# In lower case\n",
    "result = subprocess.run(\"tr -sc 'A-Za-z' '\\\\n' < sh.txt | tr A-Z a-z | sort | uniq -c\", shell=True, capture_output=True, text=True)\n",
    "print(result.stdout[:95])"
   ]
  },
  {
   "cell_type": "code",
   "execution_count": 23,
   "metadata": {},
   "outputs": [
    {
     "name": "stdout",
     "output_type": "stream",
     "text": [
      "27594 the\n",
      "26735 and\n",
      "22538 i\n",
      "19771 to\n",
      "18132 of\n",
      "14725 a\n",
      "13826 you\n",
      "12489 my\n",
      "11535 that\n",
      "11112 in\n",
      "9753 is\n"
     ]
    }
   ],
   "source": [
    "#sort the words in descending order of frequency\n",
    "result = subprocess.run(\"tr -sc 'A-Za-z' '\\\\n' < sh.txt | tr A-Z a-z | sort | uniq -c | sort -n -r\", shell=True, capture_output=True, text=True)\n",
    "print(result.stdout[:100])"
   ]
  },
  {
   "cell_type": "markdown",
   "metadata": {},
   "source": [
    "# Word Tokenization"
   ]
  },
  {
   "cell_type": "code",
   "execution_count": 2,
   "metadata": {},
   "outputs": [
    {
     "ename": "ModuleNotFoundError",
     "evalue": "No module named 'nltk'",
     "output_type": "error",
     "traceback": [
      "\u001b[0;31m---------------------------------------------------------------------------\u001b[0m",
      "\u001b[0;31mModuleNotFoundError\u001b[0m                       Traceback (most recent call last)",
      "Cell \u001b[0;32mIn[2], line 1\u001b[0m\n\u001b[0;32m----> 1\u001b[0m \u001b[38;5;28;01mimport\u001b[39;00m \u001b[38;5;21;01mnltk\u001b[39;00m\n\u001b[1;32m      2\u001b[0m text \u001b[38;5;241m=\u001b[39m \u001b[38;5;124m'\u001b[39m\u001b[38;5;124mThat U.S.A. poster-print costs $12.40...\u001b[39m\u001b[38;5;124m'\u001b[39m\n\u001b[1;32m      3\u001b[0m pattern \u001b[38;5;241m=\u001b[39m \u001b[38;5;124mr\u001b[39m\u001b[38;5;124m'''\u001b[39m\u001b[38;5;124m(?x)(?:[A-Z]\u001b[39m\u001b[38;5;124m\\\u001b[39m\u001b[38;5;124m.)+| \u001b[39m\u001b[38;5;124m\\\u001b[39m\u001b[38;5;124mw+(?:-\u001b[39m\u001b[38;5;124m\\\u001b[39m\u001b[38;5;124mw+)*| \u001b[39m\u001b[38;5;124m\\\u001b[39m\u001b[38;5;124m$?\u001b[39m\u001b[38;5;124m\\\u001b[39m\u001b[38;5;124md+(?:\u001b[39m\u001b[38;5;124m\\\u001b[39m\u001b[38;5;124m.\u001b[39m\u001b[38;5;124m\\\u001b[39m\u001b[38;5;124md+)?\u001b[39m\u001b[38;5;124m%\u001b[39m\u001b[38;5;124m?| \u001b[39m\u001b[38;5;124m\\\u001b[39m\u001b[38;5;124m.\u001b[39m\u001b[38;5;124m\\\u001b[39m\u001b[38;5;124m.\u001b[39m\u001b[38;5;124m\\\u001b[39m\u001b[38;5;124m.| [][.,;\u001b[39m\u001b[38;5;124m\"\u001b[39m\u001b[38;5;124m'\u001b[39m\u001b[38;5;124m?():_`-]\u001b[39m\u001b[38;5;124m'''\u001b[39m\n",
      "\u001b[0;31mModuleNotFoundError\u001b[0m: No module named 'nltk'"
     ]
    }
   ],
   "source": [
    "import nltk\n",
    "text = 'That U.S.A. poster-print costs $12.40...'\n",
    "pattern = r'''(?x)(?:[A-Z]\\.)+| \\w+(?:-\\w+)*| \\$?\\d+(?:\\.\\d+)?%?| \\.\\.\\.| [][.,;\"'?():_`-]'''\n",
    "nltk.regexp_tokenize(text, pattern)"
   ]
  },
  {
   "cell_type": "code",
   "execution_count": null,
   "metadata": {},
   "outputs": [],
   "source": [
    "# Tokenizor of Chinese and English"
   ]
  }
 ],
 "metadata": {
  "kernelspec": {
   "display_name": "venv",
   "language": "python",
   "name": "python3"
  },
  "language_info": {
   "codemirror_mode": {
    "name": "ipython",
    "version": 3
   },
   "file_extension": ".py",
   "mimetype": "text/x-python",
   "name": "python",
   "nbconvert_exporter": "python",
   "pygments_lexer": "ipython3",
   "version": "3.11.9"
  }
 },
 "nbformat": 4,
 "nbformat_minor": 2
}
